{
 "cells": [
  {
   "cell_type": "code",
   "execution_count": 1,
   "metadata": {},
   "outputs": [],
   "source": [
    "import pandas as pd\n",
    "import ipywidgets as widgets\n",
    "from IPython.display import DisplayHandle\n",
    "from IPython.display import display\n",
    "from IPython.display import HTML\n",
    "from logo import logo\n",
    "import qgrid\n",
    "from genbank import entry_to_genbank"
   ]
  },
  {
   "cell_type": "code",
   "execution_count": 2,
   "metadata": {},
   "outputs": [
    {
     "data": {
      "text/html": [
       "<script>\n",
       "code_show=true; \n",
       "function code_toggle() {\n",
       " if (code_show){\n",
       " $('div.input').hide();\n",
       " } else {\n",
       " $('div.input').show();\n",
       " }\n",
       " code_show = !code_show\n",
       "} \n",
       "$( document ).ready(code_toggle);\n",
       "</script>\n",
       "The raw code for this IPython notebook is by default hidden for easier reading.\n",
       "To toggle on/off the raw code, click <a href=\"javascript:code_toggle()\">here</a>."
      ],
      "text/plain": [
       "<IPython.core.display.HTML object>"
      ]
     },
     "execution_count": 2,
     "metadata": {},
     "output_type": "execute_result"
    }
   ],
   "source": [
    "HTML('''<script>\n",
    "code_show=true; \n",
    "function code_toggle() {\n",
    " if (code_show){\n",
    " $('div.input').hide();\n",
    " } else {\n",
    " $('div.input').show();\n",
    " }\n",
    " code_show = !code_show\n",
    "} \n",
    "$( document ).ready(code_toggle);\n",
    "</script>\n",
    "The raw code for this IPython notebook is by default hidden for easier reading.\n",
    "To toggle on/off the raw code, click <a href=\"javascript:code_toggle()\">here</a>.''')"
   ]
  },
  {
   "cell_type": "code",
   "execution_count": 3,
   "metadata": {},
   "outputs": [],
   "source": [
    "import warnings\n",
    "warnings.filterwarnings('ignore')"
   ]
  },
  {
   "cell_type": "markdown",
   "metadata": {},
   "source": [
    "<img src=\"rise_logo.png\" width=\"240\" height=\"240\" align=\"center\"/>"
   ]
  },
  {
   "cell_type": "code",
   "execution_count": 4,
   "metadata": {},
   "outputs": [
    {
     "name": "stdout",
     "output_type": "stream",
     "text": [
      "*********************************************************************\n",
      "* iGEM Team Heidelberg 2020                                         *\n",
      "* E-Mail: igemhd@protonmail.com                                     *\n",
      "*********************************************************************\n"
     ]
    }
   ],
   "source": [
    "logo()"
   ]
  },
  {
   "cell_type": "code",
   "execution_count": 5,
   "metadata": {},
   "outputs": [],
   "source": [
    "dataframe = pd.read_csv(\"registry.csv\")\n",
    "dataframe = dataframe.applymap(str)\n",
    "dataframe.infer_objects().dtypes\n",
    "dataframe = dataframe.reindex(sorted(dataframe.columns), axis=1)"
   ]
  },
  {
   "cell_type": "code",
   "execution_count": 6,
   "metadata": {},
   "outputs": [],
   "source": [
    "qgrid_widget = qgrid.show_grid(dataframe,grid_options={'forceFitColumns': False, 'defaultColumnWidth': 150,'editable':False},column_options={'editable':False})\n"
   ]
  },
  {
   "cell_type": "code",
   "execution_count": 7,
   "metadata": {
    "scrolled": false
   },
   "outputs": [
    {
     "data": {
      "application/vnd.jupyter.widget-view+json": {
       "model_id": "bc5b62d815664609b1abcc3973afb491",
       "version_major": 2,
       "version_minor": 0
      },
      "text/plain": [
       "QgridWidget(grid_options={'fullWidthRows': True, 'syncColumnCellResize': True, 'forceFitColumns': False, 'defa…"
      ]
     },
     "metadata": {},
     "output_type": "display_data"
    }
   ],
   "source": [
    "display(qgrid_widget)"
   ]
  },
  {
   "cell_type": "code",
   "execution_count": 8,
   "metadata": {},
   "outputs": [],
   "source": [
    "export_dataframe = pd.DataFrame()"
   ]
  },
  {
   "cell_type": "code",
   "execution_count": 9,
   "metadata": {},
   "outputs": [],
   "source": [
    "show = DisplayHandle(display_id='1')\n",
    "\n"
   ]
  },
  {
   "cell_type": "code",
   "execution_count": 10,
   "metadata": {},
   "outputs": [],
   "source": [
    "def add_to_export_df(widget):\n",
    "    global export_dataframe\n",
    "    frames = [export_dataframe, qgrid_widget.get_selected_df()]\n",
    "    export_dataframe = pd.concat(frames)\n",
    "    export_dataframe = export_dataframe.reset_index().drop(columns=[\"index\"])\n",
    "    show.update(export_dataframe)\n",
    "    \n",
    "    \n",
    "def reset_export_df(widget):\n",
    "    global export_dataframe\n",
    "    export_dataframe = pd.DataFrame()\n",
    "    show.update(export_dataframe)"
   ]
  },
  {
   "cell_type": "code",
   "execution_count": 11,
   "metadata": {},
   "outputs": [],
   "source": [
    "e=widgets.Button(\n",
    "    description='Add to export Dataframe',\n",
    "    disabled=False,\n",
    "    button_style='',\n",
    "    tooltip='Add to export Dataframe',\n",
    "    icon='download',\n",
    ")\n",
    "\n",
    "r=widgets.Button(\n",
    "    description='Reset Export Dataframe',\n",
    "    disabled=False,\n",
    "    button_style='',\n",
    "    tooltip='Reset Export Dataframe',\n",
    "    icon='recycle'\n",
    ")"
   ]
  },
  {
   "cell_type": "code",
   "execution_count": 12,
   "metadata": {},
   "outputs": [
    {
     "data": {
      "application/vnd.jupyter.widget-view+json": {
       "model_id": "adc7c4b34ce14d55bfe0787e4acf689d",
       "version_major": 2,
       "version_minor": 0
      },
      "text/plain": [
       "Button(description='Add to export Dataframe', icon='download', style=ButtonStyle(), tooltip='Add to export Dat…"
      ]
     },
     "metadata": {},
     "output_type": "display_data"
    },
    {
     "data": {
      "application/vnd.jupyter.widget-view+json": {
       "model_id": "3fea2aa6330f4f8394447a1d70ed635b",
       "version_major": 2,
       "version_minor": 0
      },
      "text/plain": [
       "Button(description='Reset Export Dataframe', icon='recycle', style=ButtonStyle(), tooltip='Reset Export Datafr…"
      ]
     },
     "metadata": {},
     "output_type": "display_data"
    }
   ],
   "source": [
    "display(e)\n",
    "e.on_click(add_to_export_df)\n",
    "display(r)\n",
    "r.on_click(reset_export_df)"
   ]
  },
  {
   "cell_type": "code",
   "execution_count": 13,
   "metadata": {
    "scrolled": false
   },
   "outputs": [
    {
     "data": {
      "text/html": [
       "<div>\n",
       "<style scoped>\n",
       "    .dataframe tbody tr th:only-of-type {\n",
       "        vertical-align: middle;\n",
       "    }\n",
       "\n",
       "    .dataframe tbody tr th {\n",
       "        vertical-align: top;\n",
       "    }\n",
       "\n",
       "    .dataframe thead th {\n",
       "        text-align: right;\n",
       "    }\n",
       "</style>\n",
       "<table border=\"1\" class=\"dataframe\">\n",
       "  <thead>\n",
       "    <tr style=\"text-align: right;\">\n",
       "      <th></th>\n",
       "      <th>author</th>\n",
       "      <th>categories</th>\n",
       "      <th>creation_date</th>\n",
       "      <th>deep_count</th>\n",
       "      <th>deep_u_list</th>\n",
       "      <th>default_scars</th>\n",
       "      <th>description</th>\n",
       "      <th>discontinued</th>\n",
       "      <th>doc_size</th>\n",
       "      <th>dominant</th>\n",
       "      <th>...</th>\n",
       "      <th>short_desc</th>\n",
       "      <th>source</th>\n",
       "      <th>specified_u_list</th>\n",
       "      <th>status</th>\n",
       "      <th>temp4</th>\n",
       "      <th>temp_1</th>\n",
       "      <th>temp_2</th>\n",
       "      <th>temp_3</th>\n",
       "      <th>uses</th>\n",
       "      <th>works</th>\n",
       "    </tr>\n",
       "  </thead>\n",
       "  <tbody>\n",
       "    <tr>\n",
       "      <th>0</th>\n",
       "      <td>Randy Rettberg</td>\n",
       "      <td>//classic/intermediate/uncategorized</td>\n",
       "      <td>2003-12-03</td>\n",
       "      <td>2</td>\n",
       "      <td>_147_160_</td>\n",
       "      <td>nan</td>\n",
       "      <td>nan</td>\n",
       "      <td>1</td>\n",
       "      <td>533</td>\n",
       "      <td>0</td>\n",
       "      <td>...</td>\n",
       "      <td>Intermediate part from assembly 236</td>\n",
       "      <td>nan</td>\n",
       "      <td>_147_160_</td>\n",
       "      <td>Deleted</td>\n",
       "      <td>1.0</td>\n",
       "      <td>0.0</td>\n",
       "      <td>0.0</td>\n",
       "      <td>0.0</td>\n",
       "      <td>0</td>\n",
       "      <td>nan</td>\n",
       "    </tr>\n",
       "    <tr>\n",
       "      <th>1</th>\n",
       "      <td>Randy Rettberg</td>\n",
       "      <td>//classic/intermediate/uncategorized</td>\n",
       "      <td>2003-12-15</td>\n",
       "      <td>6</td>\n",
       "      <td>_194_151_154_603_145_187_</td>\n",
       "      <td>nan</td>\n",
       "      <td>nan</td>\n",
       "      <td>0</td>\n",
       "      <td>1173</td>\n",
       "      <td>0</td>\n",
       "      <td>...</td>\n",
       "      <td>Intermediate part from assembly 240</td>\n",
       "      <td>nan</td>\n",
       "      <td>_194_151_154_202_187_</td>\n",
       "      <td>Available</td>\n",
       "      <td>1.0</td>\n",
       "      <td>1.0</td>\n",
       "      <td>0.0</td>\n",
       "      <td>0.0</td>\n",
       "      <td>0</td>\n",
       "      <td>nan</td>\n",
       "    </tr>\n",
       "    <tr>\n",
       "      <th>2</th>\n",
       "      <td>Randy Rettberg</td>\n",
       "      <td>//direction/forward //terminator/single</td>\n",
       "      <td>2003-11-19</td>\n",
       "      <td>1</td>\n",
       "      <td>_603_</td>\n",
       "      <td>nan</td>\n",
       "      <td>Transcriptional terminator consisting of a 64 ...</td>\n",
       "      <td>0</td>\n",
       "      <td>11502</td>\n",
       "      <td>0</td>\n",
       "      <td>...</td>\n",
       "      <td>T1 from E. coli rrnB</td>\n",
       "      <td>nan</td>\n",
       "      <td>_603_</td>\n",
       "      <td>Available</td>\n",
       "      <td>1.0</td>\n",
       "      <td>0.0</td>\n",
       "      <td>1.0</td>\n",
       "      <td>1.0</td>\n",
       "      <td>1064</td>\n",
       "      <td>None</td>\n",
       "    </tr>\n",
       "    <tr>\n",
       "      <th>3</th>\n",
       "      <td>Randy Rettberg</td>\n",
       "      <td>//classic/intermediate/uncategorized</td>\n",
       "      <td>2003-12-03</td>\n",
       "      <td>4</td>\n",
       "      <td>_147_161_603_145_</td>\n",
       "      <td>nan</td>\n",
       "      <td>nan</td>\n",
       "      <td>1</td>\n",
       "      <td>533</td>\n",
       "      <td>0</td>\n",
       "      <td>...</td>\n",
       "      <td>Intermediate part from assembly 236</td>\n",
       "      <td>nan</td>\n",
       "      <td>_147_161_603_145_</td>\n",
       "      <td>Deleted</td>\n",
       "      <td>1.0</td>\n",
       "      <td>0.0</td>\n",
       "      <td>0.0</td>\n",
       "      <td>0.0</td>\n",
       "      <td>0</td>\n",
       "      <td>nan</td>\n",
       "    </tr>\n",
       "    <tr>\n",
       "      <th>4</th>\n",
       "      <td>Randy Rettberg</td>\n",
       "      <td>//classic/intermediate/uncategorized</td>\n",
       "      <td>2003-12-03</td>\n",
       "      <td>10</td>\n",
       "      <td>_149_154_603_145_187_149_153_603_145_185_</td>\n",
       "      <td>nan</td>\n",
       "      <td>nan</td>\n",
       "      <td>1</td>\n",
       "      <td>533</td>\n",
       "      <td>0</td>\n",
       "      <td>...</td>\n",
       "      <td>Intermediate part from assembly 236</td>\n",
       "      <td>nan</td>\n",
       "      <td>_149_154_603_145_187_149_153_603_145_185_</td>\n",
       "      <td>Deleted</td>\n",
       "      <td>1.0</td>\n",
       "      <td>0.0</td>\n",
       "      <td>0.0</td>\n",
       "      <td>0.0</td>\n",
       "      <td>0</td>\n",
       "      <td>nan</td>\n",
       "    </tr>\n",
       "    <tr>\n",
       "      <th>5</th>\n",
       "      <td>Randy Rettberg</td>\n",
       "      <td>//classic/intermediate/uncategorized</td>\n",
       "      <td>2003-12-03</td>\n",
       "      <td>9</td>\n",
       "      <td>_149_156_603_145_193_147_161_603_145_</td>\n",
       "      <td>nan</td>\n",
       "      <td>nan</td>\n",
       "      <td>1</td>\n",
       "      <td>533</td>\n",
       "      <td>0</td>\n",
       "      <td>...</td>\n",
       "      <td>Intermediate part from assembly 236</td>\n",
       "      <td>nan</td>\n",
       "      <td>_149_156_603_145_193_147_161_603_145_</td>\n",
       "      <td>Deleted</td>\n",
       "      <td>1.0</td>\n",
       "      <td>0.0</td>\n",
       "      <td>0.0</td>\n",
       "      <td>0.0</td>\n",
       "      <td>0</td>\n",
       "      <td>nan</td>\n",
       "    </tr>\n",
       "  </tbody>\n",
       "</table>\n",
       "<p>6 rows × 46 columns</p>\n",
       "</div>"
      ],
      "text/plain": [
       "           author                               categories creation_date  \\\n",
       "0  Randy Rettberg     //classic/intermediate/uncategorized    2003-12-03   \n",
       "1  Randy Rettberg     //classic/intermediate/uncategorized    2003-12-15   \n",
       "2  Randy Rettberg  //direction/forward //terminator/single    2003-11-19   \n",
       "3  Randy Rettberg     //classic/intermediate/uncategorized    2003-12-03   \n",
       "4  Randy Rettberg     //classic/intermediate/uncategorized    2003-12-03   \n",
       "5  Randy Rettberg     //classic/intermediate/uncategorized    2003-12-03   \n",
       "\n",
       "  deep_count                                deep_u_list default_scars  \\\n",
       "0          2                                  _147_160_           nan   \n",
       "1          6                  _194_151_154_603_145_187_           nan   \n",
       "2          1                                      _603_           nan   \n",
       "3          4                          _147_161_603_145_           nan   \n",
       "4         10  _149_154_603_145_187_149_153_603_145_185_           nan   \n",
       "5          9      _149_156_603_145_193_147_161_603_145_           nan   \n",
       "\n",
       "                                         description discontinued doc_size  \\\n",
       "0                                                nan            1      533   \n",
       "1                                                nan            0     1173   \n",
       "2  Transcriptional terminator consisting of a 64 ...            0    11502   \n",
       "3                                                nan            1      533   \n",
       "4                                                nan            1      533   \n",
       "5                                                nan            1      533   \n",
       "\n",
       "  dominant  ...                           short_desc source  \\\n",
       "0        0  ...  Intermediate part from assembly 236    nan   \n",
       "1        0  ...  Intermediate part from assembly 240    nan   \n",
       "2        0  ...                 T1 from E. coli rrnB    nan   \n",
       "3        0  ...  Intermediate part from assembly 236    nan   \n",
       "4        0  ...  Intermediate part from assembly 236    nan   \n",
       "5        0  ...  Intermediate part from assembly 236    nan   \n",
       "\n",
       "                            specified_u_list     status temp4 temp_1 temp_2  \\\n",
       "0                                  _147_160_    Deleted   1.0    0.0    0.0   \n",
       "1                      _194_151_154_202_187_  Available   1.0    1.0    0.0   \n",
       "2                                      _603_  Available   1.0    0.0    1.0   \n",
       "3                          _147_161_603_145_    Deleted   1.0    0.0    0.0   \n",
       "4  _149_154_603_145_187_149_153_603_145_185_    Deleted   1.0    0.0    0.0   \n",
       "5      _149_156_603_145_193_147_161_603_145_    Deleted   1.0    0.0    0.0   \n",
       "\n",
       "  temp_3  uses works  \n",
       "0    0.0     0   nan  \n",
       "1    0.0     0   nan  \n",
       "2    1.0  1064  None  \n",
       "3    0.0     0   nan  \n",
       "4    0.0     0   nan  \n",
       "5    0.0     0   nan  \n",
       "\n",
       "[6 rows x 46 columns]"
      ]
     },
     "metadata": {},
     "output_type": "display_data"
    }
   ],
   "source": [
    "show.display(export_dataframe)"
   ]
  },
  {
   "cell_type": "code",
   "execution_count": 14,
   "metadata": {},
   "outputs": [],
   "source": [
    "c=widgets.Button(\n",
    "    description='Export as csv',\n",
    "    disabled=False,\n",
    "    button_style='',\n",
    "    tooltip='Export as csv',\n",
    "    icon='floppy-o'\n",
    ")\n",
    "\n",
    "\n",
    "f=widgets.Button(\n",
    "    description='Export as fasta',\n",
    "    disabled=False,\n",
    "    button_style='',\n",
    "    tooltip='Export as fasta',\n",
    "    icon='flask'\n",
    ")\n",
    "\n",
    "g=widgets.Button(\n",
    "    description='Export as genebank',\n",
    "    disabled=False,\n",
    "    button_style='',\n",
    "    tooltip='Export as genebank',\n",
    "    icon='flask'\n",
    ")"
   ]
  },
  {
   "cell_type": "code",
   "execution_count": 15,
   "metadata": {},
   "outputs": [],
   "source": [
    "#export as csv\n",
    "def export_as_csv(widget):\n",
    "    global export_dataframe\n",
    "    filename= filename_for_export.value\n",
    "    export_dataframe.to_csv(f\"{filename}.csv\",index=False)\n",
    "\n",
    "#export as fasta\n",
    "def export_as_fasta(widget):\n",
    "    global export_dataframe\n",
    "    filename= filename_for_export.value\n",
    "    selection = export_dataframe\n",
    "    f = open(f\"{filename}.fasta\", \"a\")\n",
    "    for index, row in selection.iterrows():\n",
    "        f.write(\">\")\n",
    "        f.write(str(row[\"part_name\"]))\n",
    "        f.write(\"\\n\")\n",
    "        f.write(str(row[\"sequence\"]))\n",
    "        f.write(\"\\n\")\n",
    "    f.close()\n",
    "    \n",
    "#export as genebank\n",
    "def export_as_genebank(widget):\n",
    "    global export_dataframe\n",
    "\n",
    "    for row in export_dataframe.iterrows():\n",
    "\n",
    "        entry_to_genbank(row[1],(filename_for_export.value))\n"
   ]
  },
  {
   "cell_type": "code",
   "execution_count": 16,
   "metadata": {},
   "outputs": [
    {
     "data": {
      "application/vnd.jupyter.widget-view+json": {
       "model_id": "330ea4e482cc47ed876b9a9133862b46",
       "version_major": 2,
       "version_minor": 0
      },
      "text/plain": [
       "Text(value='filename_for_export', description='Filename WITHOUT ending (.csv/.fasta):', layout=Layout(width='5…"
      ]
     },
     "metadata": {},
     "output_type": "display_data"
    }
   ],
   "source": [
    "filename_for_export = widgets.Text(\n",
    "    value=\"filename_for_export\",\n",
    "    description=\"Filename WITHOUT ending (.csv/.fasta):\",\n",
    "    disabled=False,\n",
    "    layout=widgets.Layout(width=\"50%\"),\n",
    "    style = {'description_width': 'initial'}\n",
    ")\n",
    "display(filename_for_export)"
   ]
  },
  {
   "cell_type": "code",
   "execution_count": 17,
   "metadata": {},
   "outputs": [
    {
     "data": {
      "application/vnd.jupyter.widget-view+json": {
       "model_id": "a5e10b4452fd4a8d9399b5c61716338a",
       "version_major": 2,
       "version_minor": 0
      },
      "text/plain": [
       "Button(description='Export as csv', icon='floppy-o', style=ButtonStyle(), tooltip='Export as csv')"
      ]
     },
     "metadata": {},
     "output_type": "display_data"
    },
    {
     "data": {
      "application/vnd.jupyter.widget-view+json": {
       "model_id": "c203670a527f457e9b635a5dd35321b7",
       "version_major": 2,
       "version_minor": 0
      },
      "text/plain": [
       "Button(description='Export as fasta', icon='flask', style=ButtonStyle(), tooltip='Export as fasta')"
      ]
     },
     "metadata": {},
     "output_type": "display_data"
    },
    {
     "data": {
      "application/vnd.jupyter.widget-view+json": {
       "model_id": "4ed9da4d82a94de88613fc9926d48dcf",
       "version_major": 2,
       "version_minor": 0
      },
      "text/plain": [
       "Button(description='Export as genebank', icon='flask', style=ButtonStyle(), tooltip='Export as genebank')"
      ]
     },
     "metadata": {},
     "output_type": "display_data"
    }
   ],
   "source": [
    "display(c)\n",
    "display(f)\n",
    "display(g)\n",
    "c.on_click(export_as_csv)\n",
    "f.on_click(export_as_fasta)\n",
    "g.on_click(export_as_genebank)"
   ]
  },
  {
   "cell_type": "code",
   "execution_count": null,
   "metadata": {},
   "outputs": [],
   "source": []
  },
  {
   "cell_type": "code",
   "execution_count": null,
   "metadata": {},
   "outputs": [],
   "source": []
  },
  {
   "cell_type": "code",
   "execution_count": null,
   "metadata": {},
   "outputs": [],
   "source": []
  }
 ],
 "metadata": {
  "kernelspec": {
   "display_name": "Python 3",
   "language": "python",
   "name": "python3"
  },
  "language_info": {
   "codemirror_mode": {
    "name": "ipython",
    "version": 3
   },
   "file_extension": ".py",
   "mimetype": "text/x-python",
   "name": "python",
   "nbconvert_exporter": "python",
   "pygments_lexer": "ipython3",
   "version": "3.8.5"
  }
 },
 "nbformat": 4,
 "nbformat_minor": 4
}
