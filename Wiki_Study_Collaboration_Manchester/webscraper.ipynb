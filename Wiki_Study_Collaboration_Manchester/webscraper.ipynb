{
 "cells": [
  {
   "cell_type": "code",
   "execution_count": 19,
   "metadata": {},
   "outputs": [],
   "source": [
    "import bs4 as bs\n",
    "import pandas as pd\n",
    "import requests\n",
    "import re\n",
    "import numpy as np"
   ]
  },
  {
   "cell_type": "code",
   "execution_count": 2,
   "metadata": {},
   "outputs": [],
   "source": [
    "def get_teamnames(year):\n",
    "    \"\"\"\n",
    "    :param year: year as integer\n",
    "    :return: names of all teams that did participate in \"year\"\n",
    "    \"\"\"\n",
    "    url = f\"https://igem.org/Team_Wikis?year={year}\"\n",
    "    page = requests.get(url)\n",
    "    soup = bs.BeautifulSoup(page.content,\"html.parser\")\n",
    "    teamnames = []\n",
    "    for a in soup.find_all(href=re.compile(f\"{year}.igem.org/Team:\")):\n",
    "        url = a[\"href\"].split(\"/\")\n",
    "        teamnames.append(url[-1].split(\":\")[-1])\n",
    "    return(teamnames)"
   ]
  },
  {
   "cell_type": "code",
   "execution_count": 3,
   "metadata": {},
   "outputs": [],
   "source": [
    "def return_linklist(year,team):\n",
    "    \"\"\"\n",
    "    :param year: year as integer\n",
    "    :param team: team name as string\n",
    "    :return: all links used by judges for this year/team combination\n",
    "    \"\"\"\n",
    "    attributions = f\"https://{year}.igem.org/Team:{team}/Attributions\"\n",
    "    description = f\"https://{year}.igem.org/Team:{team}/Description\"\n",
    "    contribution = f\"https://{year}.igem.org/Team:{team}/Contribution\"\n",
    "    engineering = f\"https://{year}.igem.org/Team:{team}/Engineering\"\n",
    "    collaborations = f\"https://{year}.igem.org/Team:{team}/Collaborations\"\n",
    "    human_practices = f\"https://{year}.igem.org/Team:{team}/Human_Practices\"\n",
    "    implementation = f\"https://{year}.igem.org/Team:{team}/Implementation\"\n",
    "    model = f\"https://{year}.igem.org/Team:{team}/Model\"\n",
    "    proof_of_concept = f\"https://{year}.igem.org/Team:{team}/Proof_Of_Concept\"\n",
    "    partnership = f\"https://{year}.igem.org/Team:{team}/Partnership\"\n",
    "    education = f\"https://{year}.igem.org/Team:{team}/Education\"\n",
    "    linklist = [attributions,description,contribution,engineering,collaborations,\n",
    "                human_practices,implementation,model,proof_of_concept,partnership,education]\n",
    "    return(linklist)"
   ]
  },
  {
   "cell_type": "code",
   "execution_count": 4,
   "metadata": {},
   "outputs": [],
   "source": [
    "def return_soup(link):\n",
    "    \"\"\"\n",
    "    :param link: link for website that has to be parsed\n",
    "    :return: parsed website\n",
    "    \"\"\"\n",
    "    page = requests.get(link)\n",
    "    soup = bs.BeautifulSoup(page.content,\"html.parser\")\n",
    "    return(soup)"
   ]
  },
  {
   "cell_type": "code",
   "execution_count": 8,
   "metadata": {},
   "outputs": [],
   "source": [
    "def get_number_titles_subtitles(soup):\n",
    "    \"\"\"\n",
    "    :param soup: parsed website\n",
    "    :return: number of titles, subtitles and subsubtitles as tuple\n",
    "    \"\"\"\n",
    "    number_h1 = 0\n",
    "    number_h2 = 0\n",
    "    number_h3 = 0\n",
    "    for tag in soup.find_all(\"h1\"):\n",
    "        number_h1 += 1\n",
    "    for tag in soup.find_all(\"h2\"):\n",
    "        number_h2 += 1\n",
    "    for tag in soup.find_all(\"h3\"):\n",
    "        number_h3 += 1\n",
    "    return(number_h1,number_h2,number_h3)"
   ]
  },
  {
   "cell_type": "code",
   "execution_count": 10,
   "metadata": {},
   "outputs": [],
   "source": [
    "def get_number_of_pictures(soup):\n",
    "    \"\"\"\n",
    "    :param soup: parsed website\n",
    "    :return: number of pictures in website\n",
    "    \"\"\"\n",
    "    number_of_pictures = 0\n",
    "    for tag in soup.find_all(\"img\"):\n",
    "            number_of_pictures += 1\n",
    "    return(number_of_pictures)"
   ]
  },
  {
   "cell_type": "code",
   "execution_count": 12,
   "metadata": {},
   "outputs": [],
   "source": [
    "def get_number_of_pdfs(soup):\n",
    "    \"\"\"\n",
    "    :param soup: parsed website\n",
    "    :return: number of pdfs in website\n",
    "    \"\"\"\n",
    "    number_of_pdfs = 0\n",
    "    for tag in soup.find_all(\"a\"):\n",
    "        if \".pdf\" in str(tag):\n",
    "            number_of_pdfs += 1\n",
    "    return(number_of_pdfs)"
   ]
  },
  {
   "cell_type": "code",
   "execution_count": 14,
   "metadata": {},
   "outputs": [],
   "source": [
    "def get_number_of_videos(soup):\n",
    "    \"\"\"\n",
    "    :param soup: parsed website\n",
    "    :return: number of videos in website\n",
    "    \"\"\"\n",
    "    number_of_videos = 0\n",
    "    for tag in soup.find_all(\"video\"):\n",
    "        number_of_videos += 1\n",
    "    return number_of_videos"
   ]
  },
  {
   "cell_type": "code",
   "execution_count": 16,
   "metadata": {},
   "outputs": [],
   "source": [
    "def get_sentences(soup):\n",
    "    \"\"\"\n",
    "    :param soup: parsed website\n",
    "    :return: sentences is website\n",
    "    \"\"\"\n",
    "    text = soup.get_text()\n",
    "    split = text.split(\"\\n\\n\")\n",
    "    only_longer_paragraphs = []\n",
    "    for paragraph in split:\n",
    "        if len(paragraph) > 50:\n",
    "            only_longer_paragraphs.append(paragraph)\n",
    "    sentences = []\n",
    "    for paragraph in only_longer_paragraphs:\n",
    "        for sentence in paragraph.split(\".\"):\n",
    "            sentences.append(sentence)\n",
    "    return sentences"
   ]
  },
  {
   "cell_type": "code",
   "execution_count": 17,
   "metadata": {},
   "outputs": [],
   "source": [
    "def get_number_links(soup):\n",
    "    \"\"\"\n",
    "    :param soup: parsed website\n",
    "    :return: number of links that link inside the wiki and outside the wiki as tuple\n",
    "    \"\"\"\n",
    "    number_internal = 0\n",
    "    number_external = 0\n",
    "    for link in soup.find_all(\"a\"):\n",
    "        link_temp = link.get(\"href\")\n",
    "        if link_temp == None:\n",
    "            pass\n",
    "        elif \".igem.org/Team:\" in link_temp:\n",
    "            number_internal += 1\n",
    "        elif \"http://\" or \"https://\" in link_temp:\n",
    "            number_external += 1\n",
    "        else:\n",
    "            print(\"Not all lnks could be processed\")\n",
    "    return(number_internal, number_external)"
   ]
  },
  {
   "cell_type": "code",
   "execution_count": 18,
   "metadata": {},
   "outputs": [],
   "source": [
    "master_dataframe = pd.DataFrame(columns=[\"Year\",\"Team\",\"Winner\",\"Number Titles\",\n",
    "                                         \"Number Subtitles\",\"Number SubSubtitles\",\n",
    "                                         \"Number Pictures\",\"Number PDFs\",\"Number Videos\",\n",
    "                                         \"Mean Characters per Sentence\",\"Mean Words per Sentence\",\n",
    "                                         \"Number internal links\",\"Number extarnal links\"])"
   ]
  },
  {
   "cell_type": "code",
   "execution_count": 22,
   "metadata": {},
   "outputs": [],
   "source": [
    "years = [2017,2018,2019]"
   ]
  },
  {
   "cell_type": "code",
   "execution_count": 21,
   "metadata": {},
   "outputs": [
    {
     "name": "stdout",
     "output_type": "stream",
     "text": [
      "Calculating effort...\n",
      "Calculation finished.\n",
      "951 entries to process.\n",
      "0%\n",
      "1%\n",
      "2%\n",
      "3%\n",
      "4%\n",
      "5%\n",
      "6%\n",
      "7%\n",
      "8%\n",
      "9%\n",
      "11%\n",
      "12%\n",
      "13%\n",
      "14%\n",
      "15%\n",
      "16%\n",
      "17%\n",
      "18%\n",
      "19%\n",
      "20%\n",
      "21%\n",
      "22%\n",
      "23%\n",
      "24%\n",
      "25%\n",
      "26%\n",
      "27%\n",
      "28%\n",
      "29%\n",
      "30%\n",
      "32%\n",
      "33%\n",
      "34%\n",
      "35%\n",
      "36%\n",
      "37%\n",
      "38%\n",
      "39%\n",
      "40%\n",
      "41%\n",
      "42%\n",
      "43%\n",
      "44%\n",
      "45%\n",
      "46%\n",
      "47%\n",
      "48%\n",
      "49%\n",
      "50%\n",
      "52%\n",
      "53%\n",
      "54%\n",
      "55%\n",
      "56%\n",
      "57%\n",
      "58%\n",
      "59%\n",
      "60%\n",
      "61%\n",
      "62%\n",
      "63%\n",
      "64%\n",
      "65%\n",
      "66%\n",
      "67%\n",
      "68%\n",
      "69%\n",
      "70%\n",
      "72%\n",
      "73%\n",
      "74%\n",
      "75%\n",
      "76%\n",
      "77%\n",
      "78%\n",
      "79%\n",
      "80%\n",
      "81%\n",
      "82%\n",
      "83%\n",
      "84%\n",
      "85%\n",
      "86%\n",
      "87%\n",
      "88%\n",
      "89%\n",
      "90%\n",
      "91%\n",
      "93%\n",
      "94%\n",
      "95%\n",
      "96%\n",
      "97%\n",
      "98%\n",
      "99%\n",
      "100%\n",
      "100%\n",
      "Done.\n"
     ]
    }
   ],
   "source": [
    "# This takes a while...\n",
    "print(\"Calculating effort...\")\n",
    "total_number = 0\n",
    "for year in years:\n",
    "    for team in get_teamnames(year):\n",
    "        total_number += 1\n",
    "print(\"Calculation finished.\")\n",
    "print(f\"{total_number} entries to process.\")\n",
    "counter = 0\n",
    "print(\"0%\")\n",
    "for year in years:\n",
    "    for team in get_teamnames(year):\n",
    "        winner = False\n",
    "        h1 = 0\n",
    "        h2 = 0\n",
    "        h3 = 0\n",
    "        pictures = 0\n",
    "        pdfs = 0\n",
    "        videos = 0\n",
    "        all_sentences = []\n",
    "        number_internal_links = 0\n",
    "        number_external_links = 0\n",
    "        for link in return_linklist(year,team):\n",
    "            soup = return_soup(link)\n",
    "            h1_temp, h2_temp, h3_temp = get_number_titles_subtitles(soup)\n",
    "            h1 += h1_temp\n",
    "            h2 += h2_temp\n",
    "            h3 += h3_temp\n",
    "            pictures += get_number_of_pictures(soup)\n",
    "            pdfs += get_number_of_pdfs(soup)\n",
    "            videos += get_number_of_videos(soup)\n",
    "            number_internal_links_temp, number_external_links_temp = get_number_links(soup)\n",
    "            number_internal_links += number_internal_links_temp\n",
    "            number_external_links += number_external_links_temp\n",
    "            for sentence in get_sentences(soup):\n",
    "                all_sentences.append(sentence)\n",
    "        sentence_character_list = []\n",
    "        for sentence in all_sentences:\n",
    "            sentence_character_list.append(len(sentence))\n",
    "        mean_characters_per_sentence = round(np.mean(sentence_character_list))\n",
    "        sentence_word_list = []\n",
    "        for sentence in all_sentences:\n",
    "            sentence = str(sentence)\n",
    "            word_list = sentence.split(\" \")\n",
    "            sentence_word_list.append(len(word_list))\n",
    "        mean_words_per_sentence = round(np.mean(sentence_word_list))\n",
    "        dataframe_temp = pd.DataFrame([[year,team,winner,h1,h2,h3,\n",
    "                                        pictures,pdfs,videos,\n",
    "                                        mean_characters_per_sentence,\n",
    "                                        mean_words_per_sentence,\n",
    "                                        number_internal_links,\n",
    "                                        number_external_links]],\n",
    "                                      columns=[\"Year\",\"Team\",\"Winner\",\n",
    "                                               \"Number Titles\",\n",
    "                                               \"Number Subtitles\",\n",
    "                                               \"Number SubSubtitles\",\n",
    "                                               \"Number Pictures\",\n",
    "                                               \"Number PDFs\",\n",
    "                                               \"Number Videos\",\n",
    "                                               \"Mean Characters per Sentence\",\n",
    "                                               \"Mean Words per Sentence\",\n",
    "                                               \"Number internal links\",\n",
    "                                               \"Number extarnal links\"])\n",
    "        master_dataframe = master_dataframe.append(dataframe_temp,ignore_index = True)\n",
    "        counter += 1\n",
    "        if counter%10 == 0:\n",
    "            print(f\"{round((counter/total_number)*100)}%\")\n",
    "print(\"100%\")\n",
    "print(\"Done.\")"
   ]
  },
  {
   "cell_type": "code",
   "execution_count": 37,
   "metadata": {},
   "outputs": [
    {
     "ename": "NameError",
     "evalue": "name 'master_dataframe' is not defined",
     "output_type": "error",
     "traceback": [
      "\u001B[0;31m---------------------------------------------------------------------------\u001B[0m",
      "\u001B[0;31mNameError\u001B[0m                                 Traceback (most recent call last)",
      "\u001B[0;32m<ipython-input-37-c4d125f00db4>\u001B[0m in \u001B[0;36m<module>\u001B[0;34m\u001B[0m\n\u001B[0;32m----> 1\u001B[0;31m \u001B[0mmaster_dataframe\u001B[0m\u001B[0;34m.\u001B[0m\u001B[0mto_csv\u001B[0m\u001B[0;34m(\u001B[0m\u001B[0;34m\"master_dataframe.csv\"\u001B[0m\u001B[0;34m,\u001B[0m\u001B[0mindex\u001B[0m\u001B[0;34m=\u001B[0m\u001B[0;32mFalse\u001B[0m\u001B[0;34m,\u001B[0m\u001B[0msep\u001B[0m\u001B[0;34m=\u001B[0m\u001B[0;34m\";\"\u001B[0m\u001B[0;34m)\u001B[0m\u001B[0;34m\u001B[0m\u001B[0;34m\u001B[0m\u001B[0m\n\u001B[0m",
      "\u001B[0;31mNameError\u001B[0m: name 'master_dataframe' is not defined"
     ]
    }
   ],
   "source": [
    "master_dataframe.to_csv(\"master_dataframe.csv\",index=False,sep=\";\")"
   ]
  },
  {
   "cell_type": "code",
   "execution_count": 79,
   "metadata": {},
   "outputs": [],
   "source": [
    "master_dataframe = pd.read_csv(\"master_dataframe.csv\", sep = \";\")"
   ]
  },
  {
   "cell_type": "code",
   "execution_count": 80,
   "metadata": {},
   "outputs": [],
   "source": [
    "additional_link = \"https://igem.org/Team_List.cgi?year=all&team_list_download=1&show_all=0\""
   ]
  },
  {
   "cell_type": "code",
   "execution_count": 81,
   "metadata": {},
   "outputs": [
    {
     "data": {
      "text/plain": [
       "237999"
      ]
     },
     "execution_count": 81,
     "metadata": {},
     "output_type": "execute_result"
    }
   ],
   "source": [
    "r = requests.get(additional_link, allow_redirects = True)\n",
    "open(\"test.csv\",\"wb\").write(r.content)"
   ]
  },
  {
   "cell_type": "code",
   "execution_count": 82,
   "metadata": {},
   "outputs": [
    {
     "data": {
      "text/plain": [
       "Index(['TeamID', 'Team', 'Region', 'Country', 'Track', 'Section', 'Size',\n",
       "       'Status', 'Year'],\n",
       "      dtype='object')"
      ]
     },
     "execution_count": 82,
     "metadata": {},
     "output_type": "execute_result"
    }
   ],
   "source": [
    "additional_dataframe = pd.read_csv(\"test.csv\")\n",
    "additional_dataframe.columns = additional_dataframe.columns.str.replace(' ','')\n",
    "additional_dataframe = additional_dataframe.replace(\" \",\"\",regex=True)\n",
    "additional_dataframe = additional_dataframe.replace(\"_\",\" \",regex=True)\n",
    "additional_dataframe = additional_dataframe.replace(\"High school\",\"Highschool\",regex=True)\n",
    "additional_dataframe.head(n=50)\n",
    "additional_dataframe.columns"
   ]
  },
  {
   "cell_type": "code",
   "execution_count": 86,
   "metadata": {},
   "outputs": [],
   "source": [
    "master_dataframe[\"Region\"] = \"Region\"\n",
    "master_dataframe[\"Country\"] = \"Country\"\n",
    "master_dataframe[\"Track\"] = \"Track\"\n",
    "master_dataframe[\"Section\"] = \"Section\"\n",
    "master_dataframe[\"Size\"] = np.nan"
   ]
  },
  {
   "cell_type": "code",
   "execution_count": 88,
   "metadata": {},
   "outputs": [],
   "source": [
    "for index in master_dataframe.index:\n",
    "    year = master_dataframe.at[index,\"Year\"]\n",
    "    team = master_dataframe.at[index,\"Team\"]\n",
    "    index_additional = additional_dataframe[(additional_dataframe[\"Year\"] == year) & \n",
    "                                            (additional_dataframe[\"Team\"] == team)].index\n",
    "    region = additional_dataframe.loc[index_additional,\"Region\"]\n",
    "    country = additional_dataframe.loc[index_additional,\"Country\"]\n",
    "    track = additional_dataframe.loc[index_additional,\"Track\"]\n",
    "    section = additional_dataframe.loc[index_additional,\"Section\"]\n",
    "    size = additional_dataframe.loc[index_additional,\"Size\"]\n",
    "    master_dataframe.at[index,\"Region\"] = region.item()\n",
    "    master_dataframe.at[index,\"Country\"] = country.item()\n",
    "    master_dataframe.at[index,\"Track\"] = track.item()\n",
    "    master_dataframe.at[index,\"Section\"] = section.item()\n",
    "    master_dataframe.at[index,\"Size\"] = size.item()"
   ]
  },
  {
   "cell_type": "code",
   "execution_count": 90,
   "metadata": {
    "pycharm": {
     "name": "#%%\n"
    }
   },
   "outputs": [],
   "source": [
    "master_dataframe.to_csv(\"master_dataframe_extended.csv\",index=False,sep=\";\")"
   ]
  },
  {
   "cell_type": "code",
   "execution_count": null,
   "metadata": {
    "pycharm": {
     "name": "#%%\n"
    }
   },
   "outputs": [],
   "source": [
    "master_dataframe_extended = pd.read_csv(\"master_dataframe_extended.csv\", sep = \";\")\n"
   ]
  },
  {
   "cell_type": "code",
   "execution_count": null,
   "metadata": {
    "pycharm": {
     "name": "#%%\n"
    }
   },
   "outputs": [],
   "source": [
    "def make_winner(year,team):\n",
    "    \"\"\"\n",
    "    Changes specific cell in column \"Winner\" from False to True\n",
    "    :param year: year the team participated\n",
    "    :param team: teamname\n",
    "    :return: none\n",
    "    \"\"\"\n",
    "    index = master_dataframe_extended.index[(master_dataframe_extended['Year'] == int(year)) & \n",
    "                                            (master_dataframe_extended[\"Team\"] == str(team))]\n",
    "    master_dataframe_extended.at[index,\"Winner\"] = True"
   ]
  }
 ],
 "metadata": {
  "kernelspec": {
   "display_name": "Python 3",
   "language": "python",
   "name": "python3"
  },
  "language_info": {
   "codemirror_mode": {
    "name": "ipython",
    "version": 3
   },
   "file_extension": ".py",
   "mimetype": "text/x-python",
   "name": "python",
   "nbconvert_exporter": "python",
   "pygments_lexer": "ipython3",
   "version": "3.8.5"
  }
 },
 "nbformat": 4,
 "nbformat_minor": 4
}